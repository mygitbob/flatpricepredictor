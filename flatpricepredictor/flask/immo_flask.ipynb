{
 "cells": [
  {
   "cell_type": "markdown",
   "id": "d7653c3a-2557-4339-965e-698abad0a35a",
   "metadata": {},
   "source": [
    "TODO: Text schreiben ;)\n",
    "\n",
    "[Link zum Berliner Immobilienrechner](http://bbob75.pythonanywhere.com)"
   ]
  }
 ],
 "metadata": {
  "kernelspec": {
   "display_name": "Python 3 (ipykernel)",
   "language": "python",
   "name": "python3"
  },
  "language_info": {
   "codemirror_mode": {
    "name": "ipython",
    "version": 3
   },
   "file_extension": ".py",
   "mimetype": "text/x-python",
   "name": "python",
   "nbconvert_exporter": "python",
   "pygments_lexer": "ipython3",
   "version": "3.9.6"
  }
 },
 "nbformat": 4,
 "nbformat_minor": 5
}
