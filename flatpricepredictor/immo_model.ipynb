{
 "cells": [
  {
   "cell_type": "markdown",
   "id": "97c84301-6c4a-4dc4-ad68-4db5769ff64c",
   "metadata": {},
   "source": [
    "### Immobilienrechner - Modellentwicklung"
   ]
  },
  {
   "cell_type": "markdown",
   "id": "c8328d82-fc31-4111-a8e2-f64f4377bf50",
   "metadata": {},
   "source": [
    "[Immobilienrechner - Main](./immo_main.ipynb)<br>\n",
    "[Immobilienrechner - Webscraper](./immo_scrap.ipynb)<br>\n",
    "[Immobilienrechner - Explorative Datenanalyse](./immo_eda.ipynb)<br>\n",
    "[Immobilienrechner - Bereitstellung des besten Preisvorhersagemodells per Webinterface](./flask/immo_flask.ipynb)"
   ]
  },
  {
   "cell_type": "code",
   "execution_count": 37,
   "id": "f6e6624d-a0d6-426a-98d3-a3b786b12ffd",
   "metadata": {},
   "outputs": [],
   "source": [
    "import numpy as np\n",
    "import pandas as pd\n",
    "import os\n",
    "import sys\n",
    "from random import randint\n",
    "from time import sleep\n",
    "import matplotlib.pyplot as plt\n",
    "import seaborn as sns\n",
    "from sklearn.linear_model import LinearRegression, Lasso, Ridge\n",
    "from sklearn.model_selection import train_test_split\n",
    "from sklearn.metrics import r2_score \n",
    "from sklearn.metrics import mean_absolute_error, mean_squared_error\n",
    "from sklearn.ensemble import GradientBoostingRegressor\n",
    "from datetime import datetime\n",
    "import warnings\n",
    "warnings.filterwarnings('ignore')\n",
    "import joblib\n",
    "%matplotlib inline"
   ]
  },
  {
   "cell_type": "markdown",
   "id": "87cd3607-af55-46d5-8bab-ad0798b16d31",
   "metadata": {},
   "source": [
    "#### Datensätze laden"
   ]
  },
  {
   "cell_type": "code",
   "execution_count": 2,
   "id": "5887c47f-0c6f-4dc0-bd02-aa1209a9f126",
   "metadata": {},
   "outputs": [
    {
     "name": "stdout",
     "output_type": "stream",
     "text": [
      "(786, 7) (869, 7)\n"
     ]
    }
   ],
   "source": [
    "df_man = pd.read_csv('df_man.csv')\n",
    "df_quant = pd.read_csv('df_quant.csv')\n",
    "print(df_man.shape, df_quant.shape)"
   ]
  },
  {
   "cell_type": "markdown",
   "id": "dc3cb9f1-bd10-4ea6-9247-2d58da36b13e",
   "metadata": {},
   "source": [
    "#### Feature Sets erzeugen inklusive one hot encoding"
   ]
  },
  {
   "cell_type": "code",
   "execution_count": 3,
   "id": "49b448cf-e3d7-4d47-a3af-7eb736fe4abe",
   "metadata": {},
   "outputs": [],
   "source": [
    "df_man = df_man.join(pd.get_dummies(df_man.stadtteil))\n",
    "df_quant = df_quant.join(pd.get_dummies(df_quant.stadtteil))\n",
    "\n",
    "features_all_man = df_man.drop(['plz','stadtteil','a_name','link','preis'], axis=1)\n",
    "features_groesse_man = df_man.groesse.to_frame()\n",
    "features_steil_man = df_man.drop(['plz','stadtteil','a_name','link','groesse','zimmer','preis'], axis=1)\n",
    "target_man = df_man.preis.to_frame()\n",
    "\n",
    "features_all_q = df_quant.drop(['plz','stadtteil','a_name','link','preis'], axis=1) \n",
    "features_groesse_q = df_quant.groesse.to_frame()\n",
    "features_steil_q = df_quant.drop(['plz','stadtteil','a_name','link','groesse','zimmer','preis'], axis=1)\n",
    "target_q = df_quant.preis.to_frame()"
   ]
  },
  {
   "cell_type": "markdown",
   "id": "94a703f0-da1a-45f1-9474-347a1a594740",
   "metadata": {},
   "source": [
    "#### Test- und Trainingssets erzeugen"
   ]
  },
  {
   "cell_type": "code",
   "execution_count": 5,
   "id": "e44949d2-2fac-4536-b98a-9edc4dc3f7a2",
   "metadata": {},
   "outputs": [],
   "source": [
    "X_train_all_man, X_test_all_man, y_train_all_man, y_test_all_man = \\\n",
    "                                                train_test_split(\n",
    "                                                    features_all_man, \n",
    "                                                    target_man,   \n",
    "                                                    test_size=0.2,\n",
    "                                                    random_state=42)\n",
    "X_train_groesse_man, X_test_groesse_man, y_train_groesse_man, y_test_groesse_man = \\\n",
    "                                                train_test_split(\n",
    "                                                    features_groesse_man, \n",
    "                                                    target_man,   \n",
    "                                                    test_size=0.2,\n",
    "                                                    random_state=42)\n",
    "X_train_steil_man, X_test_steil_man, y_train_steil_man, y_test_steil_man = \\\n",
    "                                                train_test_split(\n",
    "                                                    features_steil_man, \n",
    "                                                    target_man,   \n",
    "                                                    test_size=0.2,\n",
    "                                                    random_state=42)\n",
    "\n",
    "X_train_all_q, X_test_all_q, y_train_all_q, y_test_all_q = \\\n",
    "                                                train_test_split(\n",
    "                                                    features_all_q, \n",
    "                                                    target_q,   \n",
    "                                                    test_size=0.2,\n",
    "                                                    random_state=42)\n",
    "X_train_groesse_q, X_test_groesse_q, y_train_groesse_q, y_test_groesse_q = \\\n",
    "                                                train_test_split(\n",
    "                                                    features_groesse_q, \n",
    "                                                    target_q,   \n",
    "                                                    test_size=0.2,\n",
    "                                                    random_state=42)\n",
    "X_train_steil_q, X_test_steil_q, y_train_steil_q, y_test_steil_q = \\\n",
    "                                                train_test_split(\n",
    "                                                    features_steil_q, \n",
    "                                                    target_q,   \n",
    "                                                    test_size=0.2,\n",
    "                                                    random_state=42)"
   ]
  },
  {
   "cell_type": "markdown",
   "id": "718e3008-e7b0-4c60-8a29-1cde93fa22cd",
   "metadata": {},
   "source": [
    "#### Modellerzeugung Lineare Regression"
   ]
  },
  {
   "cell_type": "code",
   "execution_count": 6,
   "id": "c5f3e9f6-0f34-4456-ad2d-e5297db9a361",
   "metadata": {},
   "outputs": [
    {
     "data": {
      "text/plain": [
       "LinearRegression()"
      ]
     },
     "execution_count": 6,
     "metadata": {},
     "output_type": "execute_result"
    }
   ],
   "source": [
    "reg_all_man = LinearRegression()\n",
    "reg_groesse_man = LinearRegression()\n",
    "reg_steil_man = LinearRegression()\n",
    "\n",
    "reg_all_man.fit(X_train_all_man, y_train_all_man)\n",
    "reg_groesse_man.fit(X_train_groesse_man, y_train_groesse_man)\n",
    "reg_steil_man.fit(X_train_steil_man, y_train_steil_man)\n",
    "\n",
    "reg_all_q = LinearRegression()\n",
    "reg_groesse_q = LinearRegression()\n",
    "reg_steil_q = LinearRegression()\n",
    "\n",
    "reg_all_q.fit(X_train_all_q, y_train_all_q)\n",
    "reg_groesse_q.fit(X_train_groesse_q, y_train_groesse_q)\n",
    "reg_steil_q.fit(X_train_steil_q, y_train_steil_q)"
   ]
  },
  {
   "cell_type": "code",
   "execution_count": 7,
   "id": "c587cf7f-75bc-4f1e-992c-db502fa0df19",
   "metadata": {},
   "outputs": [
    {
     "name": "stdout",
     "output_type": "stream",
     "text": [
      "R2 score fuer Regression (manuell):\n",
      " {'all_train': 0.5425116549708868, 'groesse_train': 0.3402521275944036, 'steil_train': 0.22341808014079545, 'all_test': 0.5702036057356301, 'groesse_test': 0.4805108997989619, 'steil_test': -1.9295787697966859e+25}\n"
     ]
    }
   ],
   "source": [
    "reg_r2_man = {}\n",
    "\n",
    "reg_r2_man['all_train'] = r2_score(y_train_all_man, reg_all_man.predict(X_train_all_man))\n",
    "reg_r2_man['groesse_train'] = r2_score(y_train_groesse_man, reg_groesse_man.predict(X_train_groesse_man))\n",
    "reg_r2_man['steil_train'] = r2_score(y_train_steil_man, reg_steil_man.predict(X_train_steil_man))\n",
    "\n",
    "reg_r2_man['all_test'] = r2_score(y_test_all_man, reg_all_man.predict(X_test_all_man))\n",
    "reg_r2_man['groesse_test'] = r2_score(y_test_groesse_man, reg_groesse_man.predict(X_test_groesse_man))\n",
    "reg_r2_man['steil_test'] = r2_score(y_test_steil_man, reg_steil_man.predict(X_test_steil_man))\n",
    "\n",
    "print('R2 score fuer Regression (manuell):\\n',reg_r2_man)"
   ]
  },
  {
   "cell_type": "code",
   "execution_count": 8,
   "id": "0a791730-3002-4647-bd4b-9f312fb93f20",
   "metadata": {},
   "outputs": [
    {
     "name": "stdout",
     "output_type": "stream",
     "text": [
      "R2 score fuer Regression (quantile):\n",
      " {'all_train': 0.5485412942914323, 'groesse_train': 0.3885998860636658, 'steil_train': 0.2019804550217028, 'all_test': 0.6571238975017322, 'groesse_test': 0.4169173251759454, 'steil_test': -2.164430921351472e+25}\n"
     ]
    }
   ],
   "source": [
    "reg_r2_q = {}\n",
    "\n",
    "reg_r2_q['all_train'] = r2_score(y_train_all_q, reg_all_q.predict(X_train_all_q))\n",
    "reg_r2_q['groesse_train'] = r2_score(y_train_groesse_q, reg_groesse_q.predict(X_train_groesse_q))\n",
    "reg_r2_q['steil_train'] = r2_score(y_train_steil_q, reg_steil_q.predict(X_train_steil_q))\n",
    "\n",
    "reg_r2_q['all_test'] = r2_score(y_test_all_q, reg_all_q.predict(X_test_all_q))\n",
    "reg_r2_q['groesse_test'] = r2_score(y_test_groesse_q, reg_groesse_q.predict(X_test_groesse_q))\n",
    "reg_r2_q['steil_test'] = r2_score(y_test_steil_q, reg_steil_q.predict(X_test_steil_q))\n",
    "\n",
    "print('R2 score fuer Regression (quantile):\\n',reg_r2_q)"
   ]
  },
  {
   "cell_type": "code",
   "execution_count": 9,
   "id": "b3e0af36-f1c8-407e-bb7d-ca8c8a3ff52e",
   "metadata": {},
   "outputs": [
    {
     "name": "stdout",
     "output_type": "stream",
     "text": [
      "LinearRegression Vorhersagen:\n",
      "Manuell: Predict fuer Modell Groesse fuer 50qm: 296396.21071312984\n",
      "Manuell: Predict fuer Modell Groesse fuer 75qm: 446239.38879518135\n",
      "Manuell: Predict fuer Modell Groesse fuer 100qm: 596082.5668772329\n",
      "Q: Predict fuer Modell Groesse fuer 50qm: 290202.15746575507\n",
      "Q: Predict fuer Modell Groesse fuer 75qm: 457885.5519555693\n",
      "Q: Predict fuer Modell Groesse fuer 100qm: 625568.9464453836\n",
      "Manuell: Predict fuer Modell Stadtteil für Buch (ganz wenige Daten vorhanden): 215040.0\n",
      "Manuell: Predict fuer Modell Stadtteil für Kreuzberg (wenige Daten vorhanden): 522240.0\n",
      "Manuell: Predict fuer Modell Stadtteil für Charlottenburg (einige Daten vorhanden): 462848.0\n",
      "Q: Predict fuer Modell Stadtteil für Buch (ganz wenige Daten vorhanden): 235520.0\n",
      "Q: Predict fuer Modell Stadtteil für Kreuzberg (wenige Daten vorhanden): 495616.0\n",
      "Q: Predict fuer Modell Stadtteil für Charlottenburg (einige Daten vorhanden): 458752.0\n",
      "Manuell: Predict fuer Modell all_features mit 50qm, 2 Zi für Kreuzberg (wenige Daten vorhanden): 334609.4151510435\n",
      "Manuell: Predict fuer Modell all_features mit 75qm, 3 Zi für Kreuzberg (wenige Daten vorhanden): 482812.8718028538\n",
      "Manuell: Predict fuer Modell all_features mit 100qm, 3 Zi für Kreuzberg (wenige Daten vorhanden): 649023.9162191174\n",
      "Manuell: Predict fuer Modell all_features mit 50qm, 2 Zi für Charlottenburg (einige Daten vorhanden): 325986.4969500284\n",
      "Manuell: Predict fuer Modell all_features mit 75qm, 3 Zi für Charlottenburg (einige Daten vorhanden): 474189.9536018388\n",
      "Manuell: Predict fuer Modell all_features mit 100qm, 3 Zi für Charlottenburg (einige Daten vorhanden): 640400.9980181024\n",
      "Q: Predict fuer Modell all_features mit 50qm, 2 Zi für Kreuzberg (wenige Daten vorhanden): 354989.922909863\n",
      "Q: Predict fuer Modell all_features mit 75qm, 3 Zi für Kreuzberg (wenige Daten vorhanden): 512949.3876280154\n",
      "Q: Predict fuer Modell all_features mit 100qm, 3 Zi für Kreuzberg (wenige Daten vorhanden): 701006.9477494643\n",
      "Q: Predict fuer Modell all_features mit 50qm, 2 Zi für Charlottenburg (einige Daten vorhanden): 300707.1386980025\n",
      "Q: Predict fuer Modell all_features mit 75qm, 3 Zi für Charlottenburg (einige Daten vorhanden): 458666.603416155\n",
      "Q: Predict fuer Modell all_features mit 100qm, 3 Zi für Charlottenburg (einige Daten vorhanden): 646724.1635376038\n"
     ]
    }
   ],
   "source": [
    "print('LinearRegression Vorhersagen:')\n",
    "\n",
    "print('Manuell: Predict fuer Modell Groesse fuer 50qm:',reg_groesse_man.predict([[50]])[0][0])\n",
    "print('Manuell: Predict fuer Modell Groesse fuer 75qm:',reg_groesse_man.predict([[75]])[0][0])\n",
    "print('Manuell: Predict fuer Modell Groesse fuer 100qm:',reg_groesse_man.predict([[100]])[0][0])\n",
    "\n",
    "print('Q: Predict fuer Modell Groesse fuer 50qm:',reg_groesse_q.predict([[50]])[0][0])\n",
    "print('Q: Predict fuer Modell Groesse fuer 75qm:',reg_groesse_q.predict([[75]])[0][0])\n",
    "print('Q: Predict fuer Modell Groesse fuer 100qm:',reg_groesse_q.predict([[100]])[0][0])\n",
    "\n",
    "dummy = [0 for i in range(X_train_all_man.shape[1]-2)]\n",
    "steil_buch = dummy.copy()\n",
    "steil_buch[X_test_steil_man.columns.to_list().index('Buch')] = 1\n",
    "steil_char = dummy.copy()\n",
    "steil_char[X_test_steil_man.columns.to_list().index('Charlottenburg')] = 1\n",
    "steil_xberg = dummy.copy()\n",
    "steil_xberg[X_test_steil_man.columns.to_list().index('Kreuzberg')] = 1\n",
    "\n",
    "print('Manuell: Predict fuer Modell Stadtteil für Buch (ganz wenige Daten vorhanden):', \n",
    "      reg_steil_man.predict([steil_buch])[0][0])\n",
    "print('Manuell: Predict fuer Modell Stadtteil für Kreuzberg (wenige Daten vorhanden):', \n",
    "      reg_steil_man.predict([steil_xberg])[0][0])\n",
    "print('Manuell: Predict fuer Modell Stadtteil für Charlottenburg (einige Daten vorhanden):', \n",
    "      reg_steil_man.predict([steil_char])[0][0])\n",
    "\n",
    "print('Q: Predict fuer Modell Stadtteil für Buch (ganz wenige Daten vorhanden):', \n",
    "      reg_steil_q.predict([steil_buch])[0][0])\n",
    "print('Q: Predict fuer Modell Stadtteil für Kreuzberg (wenige Daten vorhanden):', \n",
    "      reg_steil_q.predict([steil_xberg])[0][0])\n",
    "print('Q: Predict fuer Modell Stadtteil für Charlottenburg (einige Daten vorhanden):', \n",
    "      reg_steil_q.predict([steil_char])[0][0])\n",
    "\n",
    "print('Manuell: Predict fuer Modell all_features mit 50qm, 2 Zi für Kreuzberg (wenige Daten vorhanden):', \n",
    "      reg_all_man.predict([ [50, 2] + steil_xberg])[0][0])\n",
    "print('Manuell: Predict fuer Modell all_features mit 75qm, 3 Zi für Kreuzberg (wenige Daten vorhanden):', \n",
    "      reg_all_man.predict([ [75, 3] + steil_xberg])[0][0])\n",
    "print('Manuell: Predict fuer Modell all_features mit 100qm, 3 Zi für Kreuzberg (wenige Daten vorhanden):', \n",
    "      reg_all_man.predict([ [100, 3] + steil_xberg])[0][0])\n",
    "\n",
    "print('Manuell: Predict fuer Modell all_features mit 50qm, 2 Zi für Charlottenburg (einige Daten vorhanden):', \n",
    "      reg_all_man.predict([ [50, 2] + steil_char])[0][0])\n",
    "print('Manuell: Predict fuer Modell all_features mit 75qm, 3 Zi für Charlottenburg (einige Daten vorhanden):', \n",
    "      reg_all_man.predict([ [75, 3] + steil_char])[0][0])\n",
    "print('Manuell: Predict fuer Modell all_features mit 100qm, 3 Zi für Charlottenburg (einige Daten vorhanden):', \n",
    "      reg_all_man.predict([ [100, 3] + steil_char])[0][0])\n",
    "\n",
    "print('Q: Predict fuer Modell all_features mit 50qm, 2 Zi für Kreuzberg (wenige Daten vorhanden):', \n",
    "      reg_all_q.predict([ [50, 2] + steil_xberg])[0][0])\n",
    "print('Q: Predict fuer Modell all_features mit 75qm, 3 Zi für Kreuzberg (wenige Daten vorhanden):', \n",
    "      reg_all_q.predict([ [75, 3] + steil_xberg])[0][0])\n",
    "print('Q: Predict fuer Modell all_features mit 100qm, 3 Zi für Kreuzberg (wenige Daten vorhanden):', \n",
    "      reg_all_q.predict([ [100, 3] + steil_xberg])[0][0])\n",
    "\n",
    "print('Q: Predict fuer Modell all_features mit 50qm, 2 Zi für Charlottenburg (einige Daten vorhanden):', \n",
    "      reg_all_q.predict([ [50, 2] + steil_char])[0][0])\n",
    "print('Q: Predict fuer Modell all_features mit 75qm, 3 Zi für Charlottenburg (einige Daten vorhanden):', \n",
    "      reg_all_q.predict([ [75, 3] + steil_char])[0][0])\n",
    "print('Q: Predict fuer Modell all_features mit 100qm, 3 Zi für Charlottenburg (einige Daten vorhanden):', \n",
    "      reg_all_q.predict([ [100, 3] + steil_char])[0][0])"
   ]
  },
  {
   "cell_type": "markdown",
   "id": "efa4587f-1075-4acf-b229-ff232d87b7b9",
   "metadata": {},
   "source": [
    "#### Modellerzeugung Gradient Boosting Regressor"
   ]
  },
  {
   "cell_type": "code",
   "execution_count": 10,
   "id": "4a390b6a-f233-4e35-91aa-9ff38bccbe22",
   "metadata": {},
   "outputs": [
    {
     "data": {
      "text/plain": [
       "GradientBoostingRegressor()"
      ]
     },
     "execution_count": 10,
     "metadata": {},
     "output_type": "execute_result"
    }
   ],
   "source": [
    "gbr_all_man = GradientBoostingRegressor()\n",
    "gbr_groesse_man = GradientBoostingRegressor()\n",
    "gbr_steil_man = GradientBoostingRegressor()\n",
    "\n",
    "res = gbr_all_man.fit(X_test_all_man, y_test_all_man)\n",
    "gbr_groesse_man.fit(X_test_groesse_man, y_test_groesse_man)\n",
    "gbr_steil_man.fit(X_test_steil_man, y_test_steil_man)\n",
    "\n",
    "gbr_all_q = GradientBoostingRegressor()\n",
    "gbr_groesse_q = GradientBoostingRegressor()\n",
    "gbr_steil_q = GradientBoostingRegressor()\n",
    "\n",
    "gbr_all_q.fit(X_test_all_q, y_test_all_q)\n",
    "gbr_groesse_q.fit(X_test_groesse_q, y_test_groesse_q)\n",
    "gbr_steil_q.fit(X_test_steil_q, y_test_steil_q)"
   ]
  },
  {
   "cell_type": "code",
   "execution_count": 11,
   "id": "cca714f2-c589-4742-95fc-fc3460599066",
   "metadata": {},
   "outputs": [
    {
     "name": "stdout",
     "output_type": "stream",
     "text": [
      "R2 score fuer GradientBR (manuell):\n",
      " {'all_train': 0.31136501376543524, 'groesse_train': 0.029113631923103123, 'steil_train': 0.10946104100195819, 'all_test': 0.895424475351126, 'groesse_test': 0.8388528620164564, 'steil_test': 0.2530981952056309}\n"
     ]
    }
   ],
   "source": [
    "gbr_r2_man = {}\n",
    "\n",
    "gbr_r2_man['all_train'] = r2_score(y_train_all_man, gbr_all_man.predict(X_train_all_man))\n",
    "gbr_r2_man['groesse_train'] = r2_score(y_train_groesse_man, gbr_groesse_man.predict(X_train_groesse_man))\n",
    "gbr_r2_man['steil_train'] = r2_score(y_train_steil_man, gbr_steil_man.predict(X_train_steil_man))\n",
    "\n",
    "gbr_r2_man['all_test'] = r2_score(y_test_all_man, gbr_all_man.predict(X_test_all_man))\n",
    "gbr_r2_man['groesse_test'] = r2_score(y_test_groesse_man, gbr_groesse_man.predict(X_test_groesse_man))\n",
    "gbr_r2_man['steil_test'] = r2_score(y_test_steil_man, gbr_steil_man.predict(X_test_steil_man))\n",
    "\n",
    "print('R2 score fuer GradientBR (manuell):\\n',gbr_r2_man)"
   ]
  },
  {
   "cell_type": "code",
   "execution_count": 12,
   "id": "9f05cfcf-6c2f-4830-af89-399122d7610f",
   "metadata": {},
   "outputs": [
    {
     "name": "stdout",
     "output_type": "stream",
     "text": [
      "R2 score fuer GradientBR (quantile):\n",
      " {'all_train': 0.45297675386897485, 'groesse_train': 0.1660272684027494, 'steil_train': 0.09328836835349441, 'all_test': 0.8856866011534149, 'groesse_test': 0.8061210748520713, 'steil_test': 0.38265102347050184}\n"
     ]
    }
   ],
   "source": [
    "gbr_r2_q = {}\n",
    "\n",
    "gbr_r2_q['all_train'] = r2_score(y_train_all_q, gbr_all_q.predict(X_train_all_q))\n",
    "gbr_r2_q['groesse_train'] = r2_score(y_train_groesse_q, gbr_groesse_q.predict(X_train_groesse_q))\n",
    "gbr_r2_q['steil_train'] = r2_score(y_train_steil_q, gbr_steil_q.predict(X_train_steil_q))\n",
    "\n",
    "gbr_r2_q['all_test'] = r2_score(y_test_all_q, gbr_all_q.predict(X_test_all_q))\n",
    "gbr_r2_q['groesse_test'] = r2_score(y_test_groesse_q, gbr_groesse_q.predict(X_test_groesse_q))\n",
    "gbr_r2_q['steil_test'] = r2_score(y_test_steil_q, gbr_steil_q.predict(X_test_steil_q))\n",
    "\n",
    "print('R2 score fuer GradientBR (quantile):\\n',gbr_r2_q)"
   ]
  },
  {
   "cell_type": "code",
   "execution_count": 14,
   "id": "a2eca669-3cda-4582-8749-d651e1acdbaf",
   "metadata": {},
   "outputs": [
    {
     "name": "stdout",
     "output_type": "stream",
     "text": [
      "GradientBoostingRegressor Vorhersagen:\n",
      "Manuell: Predict fuer Modell Groesse fuer 50qm: 305390.0249608745\n",
      "Manuell: Predict fuer Modell Groesse fuer 75qm: 389446.74445063144\n",
      "Manuell: Predict fuer Modell Groesse fuer 100qm: 887239.3552406145\n",
      "Q: Predict fuer Modell Groesse fuer 50qm: 305281.11920124025\n",
      "Q: Predict fuer Modell Groesse fuer 75qm: 477853.551553679\n",
      "Q: Predict fuer Modell Groesse fuer 100qm: 508587.934015886\n",
      "Manuell: Predict fuer Modell Stadtteil für Buch (ganz wenige Daten vorhanden): 454230.64692565193\n",
      "Manuell: Predict fuer Modell Stadtteil für Kreuzberg (wenige Daten vorhanden): 534512.1977706642\n",
      "Manuell: Predict fuer Modell Stadtteil für Charlottenburg (einige Daten vorhanden): 454230.64692565193\n",
      "Q: Predict fuer Modell Stadtteil für Buch (ganz wenige Daten vorhanden): 426704.1941785186\n",
      "Q: Predict fuer Modell Stadtteil für Kreuzberg (wenige Daten vorhanden): 655071.3180880793\n",
      "Q: Predict fuer Modell Stadtteil für Charlottenburg (einige Daten vorhanden): 479761.09537457896\n",
      "Manuell: Predict fuer Modell all_features mit 50qm, 2 Zi für Kreuzberg (wenige Daten vorhanden): 375370.0408509809\n",
      "Manuell: Predict fuer Modell all_features mit 75qm, 3 Zi für Kreuzberg (wenige Daten vorhanden): 525872.6703725568\n",
      "Manuell: Predict fuer Modell all_features mit 100qm, 3 Zi für Kreuzberg (wenige Daten vorhanden): 854282.2031579696\n",
      "Manuell: Predict fuer Modell all_features mit 50qm, 2 Zi für Charlottenburg (einige Daten vorhanden): 249692.13248696824\n",
      "Manuell: Predict fuer Modell all_features mit 75qm, 3 Zi für Charlottenburg (einige Daten vorhanden): 383884.269538724\n",
      "Manuell: Predict fuer Modell all_features mit 100qm, 3 Zi für Charlottenburg (einige Daten vorhanden): 843543.0901076052\n",
      "Q: Predict fuer Modell all_features mit 50qm, 2 Zi für Kreuzberg (wenige Daten vorhanden): 292359.830275546\n",
      "Q: Predict fuer Modell all_features mit 75qm, 3 Zi für Kreuzberg (wenige Daten vorhanden): 425185.77469088655\n",
      "Q: Predict fuer Modell all_features mit 100qm, 3 Zi für Kreuzberg (wenige Daten vorhanden): 613925.3834586891\n",
      "Q: Predict fuer Modell all_features mit 50qm, 2 Zi für Charlottenburg (einige Daten vorhanden): 294657.34729152505\n",
      "Q: Predict fuer Modell all_features mit 75qm, 3 Zi für Charlottenburg (einige Daten vorhanden): 494772.6663327169\n",
      "Q: Predict fuer Modell all_features mit 100qm, 3 Zi für Charlottenburg (einige Daten vorhanden): 658349.6931366911\n"
     ]
    }
   ],
   "source": [
    "print('GradientBoostingRegressor Vorhersagen:')\n",
    "\n",
    "print('Manuell: Predict fuer Modell Groesse fuer 50qm:',gbr_groesse_man.predict([[50]])[0])\n",
    "print('Manuell: Predict fuer Modell Groesse fuer 75qm:',gbr_groesse_man.predict([[75]])[0])\n",
    "print('Manuell: Predict fuer Modell Groesse fuer 100qm:',gbr_groesse_man.predict([[100]])[0])\n",
    "\n",
    "print('Q: Predict fuer Modell Groesse fuer 50qm:',gbr_groesse_q.predict([[50]])[0])\n",
    "print('Q: Predict fuer Modell Groesse fuer 75qm:',gbr_groesse_q.predict([[75]])[0])\n",
    "print('Q: Predict fuer Modell Groesse fuer 100qm:',gbr_groesse_q.predict([[100]])[0])\n",
    "\n",
    "dummy = [0 for i in range(X_test_all_man.shape[1]-2)]\n",
    "steil_buch = dummy.copy()\n",
    "steil_buch[X_test_steil_man.columns.to_list().index('Buch')] = 1\n",
    "steil_char = dummy.copy()\n",
    "steil_char[X_test_steil_man.columns.to_list().index('Charlottenburg')] = 1\n",
    "steil_xberg = dummy.copy()\n",
    "steil_xberg[X_test_steil_man.columns.to_list().index('Kreuzberg')] = 1\n",
    "\n",
    "print('Manuell: Predict fuer Modell Stadtteil für Buch (ganz wenige Daten vorhanden):', \n",
    "      gbr_steil_man.predict([steil_buch])[0])\n",
    "print('Manuell: Predict fuer Modell Stadtteil für Kreuzberg (wenige Daten vorhanden):', \n",
    "      gbr_steil_man.predict([steil_xberg])[0])\n",
    "print('Manuell: Predict fuer Modell Stadtteil für Charlottenburg (einige Daten vorhanden):', \n",
    "      gbr_steil_man.predict([steil_char])[0])\n",
    "\n",
    "print('Q: Predict fuer Modell Stadtteil für Buch (ganz wenige Daten vorhanden):', \n",
    "      gbr_steil_q.predict([steil_buch])[0])\n",
    "print('Q: Predict fuer Modell Stadtteil für Kreuzberg (wenige Daten vorhanden):', \n",
    "      gbr_steil_q.predict([steil_xberg])[0])\n",
    "print('Q: Predict fuer Modell Stadtteil für Charlottenburg (einige Daten vorhanden):', \n",
    "      gbr_steil_q.predict([steil_char])[0])\n",
    "\n",
    "print('Manuell: Predict fuer Modell all_features mit 50qm, 2 Zi für Kreuzberg (wenige Daten vorhanden):', \n",
    "      gbr_all_man.predict([ [50, 2] + steil_xberg])[0])\n",
    "print('Manuell: Predict fuer Modell all_features mit 75qm, 3 Zi für Kreuzberg (wenige Daten vorhanden):', \n",
    "      gbr_all_man.predict([ [75, 3] + steil_xberg])[0])\n",
    "print('Manuell: Predict fuer Modell all_features mit 100qm, 3 Zi für Kreuzberg (wenige Daten vorhanden):', \n",
    "      gbr_all_man.predict([ [100, 3] + steil_xberg])[0])\n",
    "\n",
    "print('Manuell: Predict fuer Modell all_features mit 50qm, 2 Zi für Charlottenburg (einige Daten vorhanden):', \n",
    "      gbr_all_man.predict([ [50, 2] + steil_char])[0])\n",
    "print('Manuell: Predict fuer Modell all_features mit 75qm, 3 Zi für Charlottenburg (einige Daten vorhanden):', \n",
    "      gbr_all_man.predict([ [75, 3] + steil_char])[0])\n",
    "print('Manuell: Predict fuer Modell all_features mit 100qm, 3 Zi für Charlottenburg (einige Daten vorhanden):', \n",
    "      gbr_all_man.predict([ [100, 3] + steil_char])[0])\n",
    "\n",
    "print('Q: Predict fuer Modell all_features mit 50qm, 2 Zi für Kreuzberg (wenige Daten vorhanden):', \n",
    "      gbr_all_q.predict([ [50, 2] + steil_xberg])[0])\n",
    "print('Q: Predict fuer Modell all_features mit 75qm, 3 Zi für Kreuzberg (wenige Daten vorhanden):', \n",
    "      gbr_all_q.predict([ [75, 3] + steil_xberg])[0])\n",
    "print('Q: Predict fuer Modell all_features mit 100qm, 3 Zi für Kreuzberg (wenige Daten vorhanden):', \n",
    "      gbr_all_q.predict([ [100, 3] + steil_xberg])[0])\n",
    "\n",
    "print('Q: Predict fuer Modell all_features mit 50qm, 2 Zi für Charlottenburg (einige Daten vorhanden):', \n",
    "      gbr_all_q.predict([ [50, 2] + steil_char])[0])\n",
    "print('Q: Predict fuer Modell all_features mit 75qm, 3 Zi für Charlottenburg (einige Daten vorhanden):', \n",
    "      gbr_all_q.predict([ [75, 3] + steil_char])[0])\n",
    "print('Q: Predict fuer Modell all_features mit 100qm, 3 Zi für Charlottenburg (einige Daten vorhanden):', \n",
    "      gbr_all_q.predict([ [100, 3] + steil_char])[0])"
   ]
  },
  {
   "cell_type": "markdown",
   "id": "9c9b2df4-7447-4632-9ac8-7b1e4a63d63d",
   "metadata": {},
   "source": [
    "#### Neues Feature Quadratmeterpreis einführen um mehrere Modelle für den selben Datensatz zu entwickeln"
   ]
  },
  {
   "cell_type": "code",
   "execution_count": 15,
   "id": "46d2b3e5-0552-40ed-bd32-6e14edbcf9dc",
   "metadata": {},
   "outputs": [
    {
     "data": {
      "text/html": [
       "<div>\n",
       "<style scoped>\n",
       "    .dataframe tbody tr th:only-of-type {\n",
       "        vertical-align: middle;\n",
       "    }\n",
       "\n",
       "    .dataframe tbody tr th {\n",
       "        vertical-align: top;\n",
       "    }\n",
       "\n",
       "    .dataframe thead th {\n",
       "        text-align: right;\n",
       "    }\n",
       "</style>\n",
       "<table border=\"1\" class=\"dataframe\">\n",
       "  <thead>\n",
       "    <tr style=\"text-align: right;\">\n",
       "      <th></th>\n",
       "      <th>plz</th>\n",
       "      <th>stadtteil</th>\n",
       "      <th>preis</th>\n",
       "      <th>groesse</th>\n",
       "      <th>zimmer</th>\n",
       "      <th>a_name</th>\n",
       "      <th>link</th>\n",
       "      <th>Biesdorf</th>\n",
       "      <th>Blankenfelde</th>\n",
       "      <th>Buch</th>\n",
       "      <th>...</th>\n",
       "      <th>Tegel</th>\n",
       "      <th>Tempelhof</th>\n",
       "      <th>Tiergarten</th>\n",
       "      <th>Treptow</th>\n",
       "      <th>Wedding</th>\n",
       "      <th>Weissensee</th>\n",
       "      <th>Westend</th>\n",
       "      <th>Wilmersdorf</th>\n",
       "      <th>Zehlendorf</th>\n",
       "      <th>qmpreis</th>\n",
       "    </tr>\n",
       "  </thead>\n",
       "  <tbody>\n",
       "    <tr>\n",
       "      <th>0</th>\n",
       "      <td>10707</td>\n",
       "      <td>Wilmersdorf</td>\n",
       "      <td>440000</td>\n",
       "      <td>60.30</td>\n",
       "      <td>2.0</td>\n",
       "      <td>zentrale-lage-in-charlottenburg-bezugsfrei-sue...</td>\n",
       "      <td>https://www.ebay-kleinanzeigen.de/s-anzeige/ze...</td>\n",
       "      <td>0</td>\n",
       "      <td>0</td>\n",
       "      <td>0</td>\n",
       "      <td>...</td>\n",
       "      <td>0</td>\n",
       "      <td>0</td>\n",
       "      <td>0</td>\n",
       "      <td>0</td>\n",
       "      <td>0</td>\n",
       "      <td>0</td>\n",
       "      <td>0</td>\n",
       "      <td>1</td>\n",
       "      <td>0</td>\n",
       "      <td>7296.849088</td>\n",
       "    </tr>\n",
       "    <tr>\n",
       "      <th>1</th>\n",
       "      <td>12305</td>\n",
       "      <td>Tempelhof</td>\n",
       "      <td>485000</td>\n",
       "      <td>100.18</td>\n",
       "      <td>3.0</td>\n",
       "      <td>sonnige-grosszuegige-gartenwohnung-in-bester-l...</td>\n",
       "      <td>https://www.ebay-kleinanzeigen.de/s-anzeige/so...</td>\n",
       "      <td>0</td>\n",
       "      <td>0</td>\n",
       "      <td>0</td>\n",
       "      <td>...</td>\n",
       "      <td>0</td>\n",
       "      <td>1</td>\n",
       "      <td>0</td>\n",
       "      <td>0</td>\n",
       "      <td>0</td>\n",
       "      <td>0</td>\n",
       "      <td>0</td>\n",
       "      <td>0</td>\n",
       "      <td>0</td>\n",
       "      <td>4841.285686</td>\n",
       "    </tr>\n",
       "    <tr>\n",
       "      <th>2</th>\n",
       "      <td>13359</td>\n",
       "      <td>Gesundbrunnen</td>\n",
       "      <td>238000</td>\n",
       "      <td>68.00</td>\n",
       "      <td>3.0</td>\n",
       "      <td>eigentumswohnung-in-13359-berlin-gottschalkstr-</td>\n",
       "      <td>https://www.ebay-kleinanzeigen.de/s-anzeige/ei...</td>\n",
       "      <td>0</td>\n",
       "      <td>0</td>\n",
       "      <td>0</td>\n",
       "      <td>...</td>\n",
       "      <td>0</td>\n",
       "      <td>0</td>\n",
       "      <td>0</td>\n",
       "      <td>0</td>\n",
       "      <td>0</td>\n",
       "      <td>0</td>\n",
       "      <td>0</td>\n",
       "      <td>0</td>\n",
       "      <td>0</td>\n",
       "      <td>3500.000000</td>\n",
       "    </tr>\n",
       "    <tr>\n",
       "      <th>3</th>\n",
       "      <td>12051</td>\n",
       "      <td>Neukölln</td>\n",
       "      <td>412000</td>\n",
       "      <td>67.00</td>\n",
       "      <td>3.0</td>\n",
       "      <td>provisionsfrei-bezugsfrei-3-zwhg-nahe-tempelho...</td>\n",
       "      <td>https://www.ebay-kleinanzeigen.de/s-anzeige/pr...</td>\n",
       "      <td>0</td>\n",
       "      <td>0</td>\n",
       "      <td>0</td>\n",
       "      <td>...</td>\n",
       "      <td>0</td>\n",
       "      <td>0</td>\n",
       "      <td>0</td>\n",
       "      <td>0</td>\n",
       "      <td>0</td>\n",
       "      <td>0</td>\n",
       "      <td>0</td>\n",
       "      <td>0</td>\n",
       "      <td>0</td>\n",
       "      <td>6149.253731</td>\n",
       "    </tr>\n",
       "    <tr>\n",
       "      <th>4</th>\n",
       "      <td>10318</td>\n",
       "      <td>Karlshorst</td>\n",
       "      <td>375255</td>\n",
       "      <td>88.50</td>\n",
       "      <td>3.0</td>\n",
       "      <td>nur-wenige-3-4-zi-wohnungen-uebrig-top-kapital...</td>\n",
       "      <td>https://www.ebay-kleinanzeigen.de/s-anzeige/nu...</td>\n",
       "      <td>0</td>\n",
       "      <td>0</td>\n",
       "      <td>0</td>\n",
       "      <td>...</td>\n",
       "      <td>0</td>\n",
       "      <td>0</td>\n",
       "      <td>0</td>\n",
       "      <td>0</td>\n",
       "      <td>0</td>\n",
       "      <td>0</td>\n",
       "      <td>0</td>\n",
       "      <td>0</td>\n",
       "      <td>0</td>\n",
       "      <td>4240.169492</td>\n",
       "    </tr>\n",
       "  </tbody>\n",
       "</table>\n",
       "<p>5 rows × 52 columns</p>\n",
       "</div>"
      ],
      "text/plain": [
       "     plz      stadtteil   preis  groesse  zimmer  \\\n",
       "0  10707    Wilmersdorf  440000    60.30     2.0   \n",
       "1  12305      Tempelhof  485000   100.18     3.0   \n",
       "2  13359  Gesundbrunnen  238000    68.00     3.0   \n",
       "3  12051       Neukölln  412000    67.00     3.0   \n",
       "4  10318     Karlshorst  375255    88.50     3.0   \n",
       "\n",
       "                                              a_name  \\\n",
       "0  zentrale-lage-in-charlottenburg-bezugsfrei-sue...   \n",
       "1  sonnige-grosszuegige-gartenwohnung-in-bester-l...   \n",
       "2    eigentumswohnung-in-13359-berlin-gottschalkstr-   \n",
       "3  provisionsfrei-bezugsfrei-3-zwhg-nahe-tempelho...   \n",
       "4  nur-wenige-3-4-zi-wohnungen-uebrig-top-kapital...   \n",
       "\n",
       "                                                link  Biesdorf  Blankenfelde  \\\n",
       "0  https://www.ebay-kleinanzeigen.de/s-anzeige/ze...         0             0   \n",
       "1  https://www.ebay-kleinanzeigen.de/s-anzeige/so...         0             0   \n",
       "2  https://www.ebay-kleinanzeigen.de/s-anzeige/ei...         0             0   \n",
       "3  https://www.ebay-kleinanzeigen.de/s-anzeige/pr...         0             0   \n",
       "4  https://www.ebay-kleinanzeigen.de/s-anzeige/nu...         0             0   \n",
       "\n",
       "   Buch  ...  Tegel  Tempelhof  Tiergarten  Treptow  Wedding  Weissensee  \\\n",
       "0     0  ...      0          0           0        0        0           0   \n",
       "1     0  ...      0          1           0        0        0           0   \n",
       "2     0  ...      0          0           0        0        0           0   \n",
       "3     0  ...      0          0           0        0        0           0   \n",
       "4     0  ...      0          0           0        0        0           0   \n",
       "\n",
       "   Westend  Wilmersdorf  Zehlendorf      qmpreis  \n",
       "0        0            1           0  7296.849088  \n",
       "1        0            0           0  4841.285686  \n",
       "2        0            0           0  3500.000000  \n",
       "3        0            0           0  6149.253731  \n",
       "4        0            0           0  4240.169492  \n",
       "\n",
       "[5 rows x 52 columns]"
      ]
     },
     "execution_count": 15,
     "metadata": {},
     "output_type": "execute_result"
    }
   ],
   "source": [
    "df_man['qmpreis'] = df_man.preis / df_man.groesse\n",
    "df_man.head()"
   ]
  },
  {
   "cell_type": "code",
   "execution_count": 18,
   "id": "b9043eb6-47e8-4f82-851b-bc41a0dd8272",
   "metadata": {},
   "outputs": [
    {
     "data": {
      "text/html": [
       "<div>\n",
       "<style scoped>\n",
       "    .dataframe tbody tr th:only-of-type {\n",
       "        vertical-align: middle;\n",
       "    }\n",
       "\n",
       "    .dataframe tbody tr th {\n",
       "        vertical-align: top;\n",
       "    }\n",
       "\n",
       "    .dataframe thead th {\n",
       "        text-align: right;\n",
       "    }\n",
       "</style>\n",
       "<table border=\"1\" class=\"dataframe\">\n",
       "  <thead>\n",
       "    <tr style=\"text-align: right;\">\n",
       "      <th></th>\n",
       "      <th>plz</th>\n",
       "      <th>stadtteil</th>\n",
       "      <th>preis</th>\n",
       "      <th>groesse</th>\n",
       "      <th>zimmer</th>\n",
       "      <th>a_name</th>\n",
       "      <th>link</th>\n",
       "      <th>Biesdorf</th>\n",
       "      <th>Blankenfelde</th>\n",
       "      <th>Buch</th>\n",
       "      <th>...</th>\n",
       "      <th>Wedding</th>\n",
       "      <th>Weissensee</th>\n",
       "      <th>Westend</th>\n",
       "      <th>Wilmersdorf</th>\n",
       "      <th>Zehlendorf</th>\n",
       "      <th>qmpreis</th>\n",
       "      <th>art</th>\n",
       "      <th>high</th>\n",
       "      <th>low</th>\n",
       "      <th>mid</th>\n",
       "    </tr>\n",
       "  </thead>\n",
       "  <tbody>\n",
       "    <tr>\n",
       "      <th>0</th>\n",
       "      <td>10707</td>\n",
       "      <td>Wilmersdorf</td>\n",
       "      <td>440000</td>\n",
       "      <td>60.30</td>\n",
       "      <td>2.0</td>\n",
       "      <td>zentrale-lage-in-charlottenburg-bezugsfrei-sue...</td>\n",
       "      <td>https://www.ebay-kleinanzeigen.de/s-anzeige/ze...</td>\n",
       "      <td>0</td>\n",
       "      <td>0</td>\n",
       "      <td>0</td>\n",
       "      <td>...</td>\n",
       "      <td>0</td>\n",
       "      <td>0</td>\n",
       "      <td>0</td>\n",
       "      <td>1</td>\n",
       "      <td>0</td>\n",
       "      <td>7296.849088</td>\n",
       "      <td>high</td>\n",
       "      <td>1</td>\n",
       "      <td>0</td>\n",
       "      <td>0</td>\n",
       "    </tr>\n",
       "    <tr>\n",
       "      <th>1</th>\n",
       "      <td>12305</td>\n",
       "      <td>Tempelhof</td>\n",
       "      <td>485000</td>\n",
       "      <td>100.18</td>\n",
       "      <td>3.0</td>\n",
       "      <td>sonnige-grosszuegige-gartenwohnung-in-bester-l...</td>\n",
       "      <td>https://www.ebay-kleinanzeigen.de/s-anzeige/so...</td>\n",
       "      <td>0</td>\n",
       "      <td>0</td>\n",
       "      <td>0</td>\n",
       "      <td>...</td>\n",
       "      <td>0</td>\n",
       "      <td>0</td>\n",
       "      <td>0</td>\n",
       "      <td>0</td>\n",
       "      <td>0</td>\n",
       "      <td>4841.285686</td>\n",
       "      <td>low</td>\n",
       "      <td>0</td>\n",
       "      <td>1</td>\n",
       "      <td>0</td>\n",
       "    </tr>\n",
       "    <tr>\n",
       "      <th>2</th>\n",
       "      <td>13359</td>\n",
       "      <td>Gesundbrunnen</td>\n",
       "      <td>238000</td>\n",
       "      <td>68.00</td>\n",
       "      <td>3.0</td>\n",
       "      <td>eigentumswohnung-in-13359-berlin-gottschalkstr-</td>\n",
       "      <td>https://www.ebay-kleinanzeigen.de/s-anzeige/ei...</td>\n",
       "      <td>0</td>\n",
       "      <td>0</td>\n",
       "      <td>0</td>\n",
       "      <td>...</td>\n",
       "      <td>0</td>\n",
       "      <td>0</td>\n",
       "      <td>0</td>\n",
       "      <td>0</td>\n",
       "      <td>0</td>\n",
       "      <td>3500.000000</td>\n",
       "      <td>low</td>\n",
       "      <td>0</td>\n",
       "      <td>1</td>\n",
       "      <td>0</td>\n",
       "    </tr>\n",
       "    <tr>\n",
       "      <th>3</th>\n",
       "      <td>12051</td>\n",
       "      <td>Neukölln</td>\n",
       "      <td>412000</td>\n",
       "      <td>67.00</td>\n",
       "      <td>3.0</td>\n",
       "      <td>provisionsfrei-bezugsfrei-3-zwhg-nahe-tempelho...</td>\n",
       "      <td>https://www.ebay-kleinanzeigen.de/s-anzeige/pr...</td>\n",
       "      <td>0</td>\n",
       "      <td>0</td>\n",
       "      <td>0</td>\n",
       "      <td>...</td>\n",
       "      <td>0</td>\n",
       "      <td>0</td>\n",
       "      <td>0</td>\n",
       "      <td>0</td>\n",
       "      <td>0</td>\n",
       "      <td>6149.253731</td>\n",
       "      <td>mid</td>\n",
       "      <td>0</td>\n",
       "      <td>0</td>\n",
       "      <td>1</td>\n",
       "    </tr>\n",
       "    <tr>\n",
       "      <th>4</th>\n",
       "      <td>10318</td>\n",
       "      <td>Karlshorst</td>\n",
       "      <td>375255</td>\n",
       "      <td>88.50</td>\n",
       "      <td>3.0</td>\n",
       "      <td>nur-wenige-3-4-zi-wohnungen-uebrig-top-kapital...</td>\n",
       "      <td>https://www.ebay-kleinanzeigen.de/s-anzeige/nu...</td>\n",
       "      <td>0</td>\n",
       "      <td>0</td>\n",
       "      <td>0</td>\n",
       "      <td>...</td>\n",
       "      <td>0</td>\n",
       "      <td>0</td>\n",
       "      <td>0</td>\n",
       "      <td>0</td>\n",
       "      <td>0</td>\n",
       "      <td>4240.169492</td>\n",
       "      <td>low</td>\n",
       "      <td>0</td>\n",
       "      <td>1</td>\n",
       "      <td>0</td>\n",
       "    </tr>\n",
       "  </tbody>\n",
       "</table>\n",
       "<p>5 rows × 56 columns</p>\n",
       "</div>"
      ],
      "text/plain": [
       "     plz      stadtteil   preis  groesse  zimmer  \\\n",
       "0  10707    Wilmersdorf  440000    60.30     2.0   \n",
       "1  12305      Tempelhof  485000   100.18     3.0   \n",
       "2  13359  Gesundbrunnen  238000    68.00     3.0   \n",
       "3  12051       Neukölln  412000    67.00     3.0   \n",
       "4  10318     Karlshorst  375255    88.50     3.0   \n",
       "\n",
       "                                              a_name  \\\n",
       "0  zentrale-lage-in-charlottenburg-bezugsfrei-sue...   \n",
       "1  sonnige-grosszuegige-gartenwohnung-in-bester-l...   \n",
       "2    eigentumswohnung-in-13359-berlin-gottschalkstr-   \n",
       "3  provisionsfrei-bezugsfrei-3-zwhg-nahe-tempelho...   \n",
       "4  nur-wenige-3-4-zi-wohnungen-uebrig-top-kapital...   \n",
       "\n",
       "                                                link  Biesdorf  Blankenfelde  \\\n",
       "0  https://www.ebay-kleinanzeigen.de/s-anzeige/ze...         0             0   \n",
       "1  https://www.ebay-kleinanzeigen.de/s-anzeige/so...         0             0   \n",
       "2  https://www.ebay-kleinanzeigen.de/s-anzeige/ei...         0             0   \n",
       "3  https://www.ebay-kleinanzeigen.de/s-anzeige/pr...         0             0   \n",
       "4  https://www.ebay-kleinanzeigen.de/s-anzeige/nu...         0             0   \n",
       "\n",
       "   Buch  ...  Wedding  Weissensee  Westend  Wilmersdorf  Zehlendorf  \\\n",
       "0     0  ...        0           0        0            1           0   \n",
       "1     0  ...        0           0        0            0           0   \n",
       "2     0  ...        0           0        0            0           0   \n",
       "3     0  ...        0           0        0            0           0   \n",
       "4     0  ...        0           0        0            0           0   \n",
       "\n",
       "       qmpreis   art  high  low  mid  \n",
       "0  7296.849088  high     1    0    0  \n",
       "1  4841.285686   low     0    1    0  \n",
       "2  3500.000000   low     0    1    0  \n",
       "3  6149.253731   mid     0    0    1  \n",
       "4  4240.169492   low     0    1    0  \n",
       "\n",
       "[5 rows x 56 columns]"
      ]
     },
     "execution_count": 18,
     "metadata": {},
     "output_type": "execute_result"
    }
   ],
   "source": [
    "df_nf = df_man.copy(deep=True)\n",
    "\n",
    "df_nf['art'] = 'leer'\n",
    "for c in range(len(df_nf)):\n",
    "    if df_nf.iloc[c, df_nf.columns.get_loc('qmpreis')] < df_nf.qmpreis.mean() - 0.5 * df_nf.qmpreis.std():\n",
    "        df_nf.iloc[c, df_nf.columns.get_loc('art')] = 'low'\n",
    "    elif df_nf.iloc[c].qmpreis > df_nf.qmpreis.mean() + 0.5 * df_nf.qmpreis.std():\n",
    "        df_nf.iloc[c, df_nf.columns.get_loc('art')] = 'high'\n",
    "    else:\n",
    "        df_nf.iloc[c, df_nf.columns.get_loc('art')] = 'mid'\n",
    "df_nf = df_nf.join(pd.get_dummies(df_nf.art))\n",
    "\n",
    "df_nf.head()"
   ]
  },
  {
   "cell_type": "markdown",
   "id": "225268f5-51e3-4684-af4c-193d4943c98f",
   "metadata": {},
   "source": [
    "#### Neue Dataframes erzeugen mit Klassifizierung low, mid, high "
   ]
  },
  {
   "cell_type": "code",
   "execution_count": 21,
   "id": "c6921f25-baca-4447-bacc-18c3b45082d0",
   "metadata": {},
   "outputs": [
    {
     "name": "stdout",
     "output_type": "stream",
     "text": [
      "Anzahl Datensätze: low:305 mid:267 high:214\n"
     ]
    }
   ],
   "source": [
    "df_high = df_nf[df_nf.high == 1]\n",
    "df_mid = df_nf[df_nf.mid == 1]\n",
    "df_low = df_nf[df_nf.low == 1]\n",
    "print(f'Anzahl Datensätze: low:{len(df_low)} mid:{len(df_mid)} high:{len(df_high)}')"
   ]
  },
  {
   "cell_type": "code",
   "execution_count": 20,
   "id": "d5cd02ef-c443-4b32-b21c-8312005bbb97",
   "metadata": {},
   "outputs": [
    {
     "name": "stdout",
     "output_type": "stream",
     "text": [
      "Anzahl Test-Datensätze: low:244 mid:213 high:171\n"
     ]
    }
   ],
   "source": [
    "features_l = df_low.drop(['plz','stadtteil','a_name','link','preis','art','qmpreis','low','mid','high'], axis=1)\n",
    "target_l = df_low.preis.to_frame()\n",
    "X_train_l, X_test_l, y_train_l, y_test_l = train_test_split(\n",
    "                                                    features_l, \n",
    "                                                    target_l,   \n",
    "                                                    test_size=0.2,\n",
    "                                                    random_state=42)\n",
    "features_m = df_mid.drop(['plz','stadtteil','a_name','link','preis','art','qmpreis','low','mid','high'], axis=1)\n",
    "target_m = df_mid.preis.to_frame()\n",
    "X_train_m, X_test_m, y_train_m, y_test_m = train_test_split(\n",
    "                                                    features_m, \n",
    "                                                    target_m,   \n",
    "                                                    test_size=0.2,\n",
    "                                                    random_state=42)\n",
    "features_h = df_high.drop(['plz','stadtteil','a_name','link','preis','art','qmpreis','low','mid','high'], axis=1)\n",
    "target_h = df_high.preis.to_frame()\n",
    "X_train_h, X_test_h, y_train_h, y_test_h = train_test_split(\n",
    "                                                    features_h, \n",
    "                                                    target_h,   \n",
    "                                                    test_size=0.2,\n",
    "                                                    random_state=42)\n",
    "print(f'Anzahl Test-Datensätze: low:{len(X_train_l)} mid:{len(X_train_m)} high:{len(X_train_h)}')"
   ]
  },
  {
   "cell_type": "code",
   "execution_count": 22,
   "id": "f2c02387-e8a9-4b8c-9050-74010c73fa63",
   "metadata": {},
   "outputs": [
    {
     "data": {
      "text/plain": [
       "LinearRegression()"
      ]
     },
     "execution_count": 22,
     "metadata": {},
     "output_type": "execute_result"
    }
   ],
   "source": [
    "reg_l = LinearRegression()\n",
    "reg_m = LinearRegression()\n",
    "reg_h = LinearRegression()\n",
    "\n",
    "reg_l.fit(X_train_h, y_train_h)\n",
    "reg_m.fit(X_train_h, y_train_h)\n",
    "reg_h.fit(X_train_h, y_train_h)"
   ]
  },
  {
   "cell_type": "code",
   "execution_count": 23,
   "id": "e31d2fe8-246f-4e4d-8698-3fe8331d4083",
   "metadata": {},
   "outputs": [
    {
     "data": {
      "text/plain": [
       "{'reg_train_low': -5.6461303523862374e+20,\n",
       " 'reg_train_mid': -6.517158352741493e+19,\n",
       " 'reg_train_high': 0.7283476856555764,\n",
       " 'reg_test_low': -5.736000241870621e+20,\n",
       " 'reg_test_mid': -5.18014902230448e+19,\n",
       " 'reg_test_high': 0.7003480362382049}"
      ]
     },
     "execution_count": 23,
     "metadata": {},
     "output_type": "execute_result"
    }
   ],
   "source": [
    "reg_r2 = {}\n",
    "\n",
    "reg_r2['reg_train_low'] = r2_score(y_train_l, reg_l.predict(X_train_l))\n",
    "reg_r2['reg_train_mid'] = r2_score(y_train_m, reg_m.predict(X_train_m))\n",
    "reg_r2['reg_train_high'] = r2_score(y_train_h, reg_h.predict(X_train_h))\n",
    "\n",
    "reg_r2['reg_test_low'] = r2_score(y_test_l, reg_l.predict(X_test_l))\n",
    "reg_r2['reg_test_mid'] = r2_score(y_test_m, reg_m.predict(X_test_m))\n",
    "reg_r2['reg_test_high'] = r2_score(y_test_h, reg_h.predict(X_test_h))\n",
    "\n",
    "reg_r2"
   ]
  },
  {
   "cell_type": "code",
   "execution_count": 24,
   "id": "6b398922-6ccc-4c14-ae09-e7f404d89d1a",
   "metadata": {},
   "outputs": [
    {
     "data": {
      "text/plain": [
       "{'reg_mae_low': 711974524738922.4,\n",
       " 'reg_mae_mid': 235428035699501.12,\n",
       " 'reg_mae_high': 81577.51162790698}"
      ]
     },
     "execution_count": 24,
     "metadata": {},
     "output_type": "execute_result"
    }
   ],
   "source": [
    "reg_mae = {}\n",
    "\n",
    "reg_mae['reg_mae_low'] = mean_absolute_error(reg_l.predict(X_test_l), y_test_l)\n",
    "reg_mae['reg_mae_mid'] = mean_absolute_error(reg_m.predict(X_test_m), y_test_m)\n",
    "reg_mae['reg_mae_high'] = mean_absolute_error(reg_h.predict(X_test_h), y_test_h)\n",
    "\n",
    "reg_mae"
   ]
  },
  {
   "cell_type": "code",
   "execution_count": 25,
   "id": "a6ff831b-7d65-4405-a88c-298e4821c63e",
   "metadata": {},
   "outputs": [
    {
     "data": {
      "text/plain": [
       "GradientBoostingRegressor()"
      ]
     },
     "execution_count": 25,
     "metadata": {},
     "output_type": "execute_result"
    }
   ],
   "source": [
    "gbr_l = GradientBoostingRegressor()\n",
    "gbr_m = GradientBoostingRegressor()\n",
    "gbr_h = GradientBoostingRegressor()\n",
    "\n",
    "gbr_l.fit(X_test_l, y_test_l)\n",
    "gbr_m.fit(X_test_m, y_test_m)\n",
    "gbr_h.fit(X_test_h, y_test_h)"
   ]
  },
  {
   "cell_type": "code",
   "execution_count": 26,
   "id": "38a92fa9-b282-4d5f-b9e8-f05f730c63f6",
   "metadata": {},
   "outputs": [
    {
     "data": {
      "text/plain": [
       "{'gbr_train_low': 0.7257421316917949,\n",
       " 'gbr_train_mid': 0.8506100627184564,\n",
       " 'gbr_train_high': 0.6306504998956466,\n",
       " 'gbr_test_low': 0.9879542156236346,\n",
       " 'gbr_test_mid': 0.993524860383692,\n",
       " 'gbr_test_high': 0.9909989184198951}"
      ]
     },
     "execution_count": 26,
     "metadata": {},
     "output_type": "execute_result"
    }
   ],
   "source": [
    "gbr_r2 = {}\n",
    "\n",
    "gbr_r2['gbr_train_low'] = r2_score(y_train_l, gbr_l.predict(X_train_l))\n",
    "gbr_r2['gbr_train_mid'] = r2_score(y_train_m, gbr_m.predict(X_train_m))\n",
    "gbr_r2['gbr_train_high'] = r2_score(y_train_h, gbr_h.predict(X_train_h))\n",
    "\n",
    "gbr_r2['gbr_test_low'] = r2_score(y_test_l, gbr_l.predict(X_test_l))\n",
    "gbr_r2['gbr_test_mid'] = r2_score(y_test_m, gbr_m.predict(X_test_m))\n",
    "gbr_r2['gbr_test_high'] = r2_score(y_test_h, gbr_h.predict(X_test_h))\n",
    "\n",
    "gbr_r2"
   ]
  },
  {
   "cell_type": "code",
   "execution_count": 27,
   "id": "9d545a0c-91bf-4b26-b791-b38397af5287",
   "metadata": {},
   "outputs": [
    {
     "data": {
      "text/plain": [
       "{'gbr_mae_low': 6338.271428719549,\n",
       " 'gbr_mae_mid': 8205.64259311156,\n",
       " 'gbr_mae_high': 13580.9563914444}"
      ]
     },
     "execution_count": 27,
     "metadata": {},
     "output_type": "execute_result"
    }
   ],
   "source": [
    "gbr_mae = {}\n",
    "\n",
    "gbr_mae['gbr_mae_low'] = mean_absolute_error(y_test_l, gbr_l.predict(X_test_l))\n",
    "gbr_mae['gbr_mae_mid'] = mean_absolute_error(y_test_m, gbr_m.predict(X_test_m))\n",
    "gbr_mae['gbr_mae_high'] = mean_absolute_error(y_test_h, gbr_h.predict(X_test_h))\n",
    "\n",
    "\n",
    "gbr_mae"
   ]
  },
  {
   "cell_type": "code",
   "execution_count": 31,
   "id": "1442d78a-5f79-4dfc-a986-40b95bfac463",
   "metadata": {},
   "outputs": [],
   "source": [
    "lasso_l = Lasso(alpha=1.0,\n",
    "    fit_intercept=True,\n",
    "    normalize=True,\n",
    "    precompute=False,\n",
    "    copy_X=True,\n",
    "    max_iter=1000,\n",
    "    tol=0.0001,\n",
    "    warm_start=False,\n",
    "    positive=False,\n",
    "    random_state=42,\n",
    "    selection='cyclic').fit(X_train_l, y_train_l)\n",
    "\n",
    "lasso_m = Lasso(alpha=1.0,\n",
    "    fit_intercept=True,\n",
    "    normalize=True,\n",
    "    precompute=False,\n",
    "    copy_X=True,\n",
    "    max_iter=1000,\n",
    "    tol=0.0001,\n",
    "    warm_start=False,\n",
    "    positive=False,\n",
    "    random_state=42,\n",
    "    selection='cyclic').fit(X_train_m, y_train_m)\n",
    "\n",
    "lasso_h = Lasso(alpha=1.0,\n",
    "    fit_intercept=True,\n",
    "    normalize=True,\n",
    "    precompute=False,\n",
    "    copy_X=True,\n",
    "    max_iter=1000,\n",
    "    tol=0.0001,\n",
    "    warm_start=False,\n",
    "    positive=False,\n",
    "    random_state=42,\n",
    "    selection='cyclic').fit(X_train_h, y_train_h)"
   ]
  },
  {
   "cell_type": "code",
   "execution_count": 32,
   "id": "a4af282c-e53b-4dce-9d19-6b00c6588cb1",
   "metadata": {},
   "outputs": [
    {
     "data": {
      "text/plain": [
       "{'lasso_train_low': 0.7845480248279124,\n",
       " 'lasso_train_mid': 0.9076036158144396,\n",
       " 'lasso_train_high': 0.7283473566226484,\n",
       " 'lasso_test_low': 0.8071803275212428,\n",
       " 'lasso_test_mid': 0.8616025451347769,\n",
       " 'lasso_test_high': 0.7004690433915217}"
      ]
     },
     "execution_count": 32,
     "metadata": {},
     "output_type": "execute_result"
    }
   ],
   "source": [
    "lasso_r2 = {}\n",
    "\n",
    "lasso_r2['lasso_train_low'] = r2_score(y_train_l, lasso_l.predict(X_train_l))\n",
    "lasso_r2['lasso_train_mid'] = r2_score(y_train_m, lasso_m.predict(X_train_m))\n",
    "lasso_r2['lasso_train_high'] = r2_score(y_train_h, lasso_h.predict(X_train_h))\n",
    "\n",
    "lasso_r2['lasso_test_low'] = r2_score(y_test_l, lasso_l.predict(X_test_l))\n",
    "lasso_r2['lasso_test_mid'] = r2_score(y_test_m, lasso_m.predict(X_test_m))\n",
    "lasso_r2['lasso_test_high'] = r2_score(y_test_h, lasso_h.predict(X_test_h))\n",
    "\n",
    "lasso_r2"
   ]
  },
  {
   "cell_type": "code",
   "execution_count": 33,
   "id": "1eaa62e5-c7b7-44ab-8d20-7fd8843b9386",
   "metadata": {},
   "outputs": [
    {
     "data": {
      "text/plain": [
       "{'lasso_mae_low': 25903.108649689762,\n",
       " 'lasso_mae_mid': 40240.18439000245,\n",
       " 'lasso_mae_high': 81569.48058428025}"
      ]
     },
     "execution_count": 33,
     "metadata": {},
     "output_type": "execute_result"
    }
   ],
   "source": [
    "lasso_mae = {}\n",
    "\n",
    "lasso_mae['lasso_mae_low'] = mean_absolute_error(y_test_l, lasso_l.predict(X_test_l))\n",
    "lasso_mae['lasso_mae_mid'] = mean_absolute_error(y_test_m, lasso_m.predict(X_test_m))\n",
    "lasso_mae['lasso_mae_high'] = mean_absolute_error(y_test_h, lasso_h.predict(X_test_h))\n",
    "\n",
    "\n",
    "lasso_mae"
   ]
  },
  {
   "cell_type": "code",
   "execution_count": 34,
   "id": "ae6fc6fd-9e4d-49d4-af9d-01037e50dba3",
   "metadata": {},
   "outputs": [],
   "source": [
    "rid_l = Ridge(\n",
    "    alpha=1.0,\n",
    "    fit_intercept=True,\n",
    "    normalize=False,\n",
    "    copy_X=True,\n",
    "    max_iter=None,\n",
    "    tol=0.001,\n",
    "    solver='auto',\n",
    "    random_state=None,\n",
    ").fit(X_train_l, y_train_l)\n",
    "\n",
    "rid_m = Ridge(\n",
    "    alpha=1.0,\n",
    "    fit_intercept=True,\n",
    "    normalize=False,\n",
    "    copy_X=True,\n",
    "    max_iter=None,\n",
    "    tol=0.001,\n",
    "    solver='auto',\n",
    "    random_state=None,\n",
    ").fit(X_train_m, y_train_m)\n",
    "\n",
    "rid_h = Ridge(\n",
    "    alpha=1.0,\n",
    "    fit_intercept=True,\n",
    "    normalize=False,\n",
    "    copy_X=True,\n",
    "    max_iter=None,\n",
    "    tol=0.001,\n",
    "    solver='auto',\n",
    "    random_state=None,\n",
    ").fit(X_train_h, y_train_h)"
   ]
  },
  {
   "cell_type": "code",
   "execution_count": 35,
   "id": "7379fc28-0ae5-48f8-b6f5-214abdea37bc",
   "metadata": {},
   "outputs": [
    {
     "data": {
      "text/plain": [
       "{'rid_train_low': 0.7808188551954821,\n",
       " 'rid_train_mid': 0.9055766550138027,\n",
       " 'rid_train_high': 0.7257673580168358,\n",
       " 'rid_test_low': 0.8081337894930463,\n",
       " 'rid_test_mid': 0.8765884312388006,\n",
       " 'rid_test_high': 0.7059848535852241}"
      ]
     },
     "execution_count": 35,
     "metadata": {},
     "output_type": "execute_result"
    }
   ],
   "source": [
    "rid_r2 = {}\n",
    "\n",
    "rid_r2['rid_train_low'] = r2_score(y_train_l, rid_l.predict(X_train_l))\n",
    "rid_r2['rid_train_mid'] = r2_score(y_train_m, rid_m.predict(X_train_m))\n",
    "rid_r2['rid_train_high'] = r2_score(y_train_h, rid_h.predict(X_train_h))\n",
    "\n",
    "rid_r2['rid_test_low'] = r2_score(y_test_l, rid_l.predict(X_test_l))\n",
    "rid_r2['rid_test_mid'] = r2_score(y_test_m, rid_m.predict(X_test_m))\n",
    "rid_r2['rid_test_high'] = r2_score(y_test_h, rid_h.predict(X_test_h))\n",
    "\n",
    "rid_r2"
   ]
  },
  {
   "cell_type": "code",
   "execution_count": 36,
   "id": "ffa4ae80-aa17-4649-85e9-82e902b8448f",
   "metadata": {},
   "outputs": [
    {
     "data": {
      "text/plain": [
       "{'rid_mae_low': 26039.876544393246,\n",
       " 'rid_mae_mid': 38764.52212009642,\n",
       " 'rid_mae_high': 81097.05284647923}"
      ]
     },
     "execution_count": 36,
     "metadata": {},
     "output_type": "execute_result"
    }
   ],
   "source": [
    "rid_mae = {}\n",
    "\n",
    "rid_mae['rid_mae_low'] = mean_absolute_error(y_test_l, rid_l.predict(X_test_l))\n",
    "rid_mae['rid_mae_mid'] = mean_absolute_error(y_test_m, rid_m.predict(X_test_m))\n",
    "rid_mae['rid_mae_high'] = mean_absolute_error(y_test_h, rid_h.predict(X_test_h))\n",
    "\n",
    "\n",
    "rid_mae"
   ]
  },
  {
   "cell_type": "markdown",
   "id": "8a23f00b-2594-43b6-aad4-f0721d20abae",
   "metadata": {},
   "source": [
    "#### Modellauswertung"
   ]
  },
  {
   "cell_type": "code",
   "execution_count": 38,
   "id": "99c7f01f-7bbf-4226-a463-fe20975c8bc4",
   "metadata": {},
   "outputs": [
    {
     "data": {
      "text/html": [
       "<div>\n",
       "<style scoped>\n",
       "    .dataframe tbody tr th:only-of-type {\n",
       "        vertical-align: middle;\n",
       "    }\n",
       "\n",
       "    .dataframe tbody tr th {\n",
       "        vertical-align: top;\n",
       "    }\n",
       "\n",
       "    .dataframe thead th {\n",
       "        text-align: right;\n",
       "    }\n",
       "</style>\n",
       "<table border=\"1\" class=\"dataframe\">\n",
       "  <thead>\n",
       "    <tr style=\"text-align: right;\">\n",
       "      <th></th>\n",
       "      <th>Modell</th>\n",
       "      <th>Train Score</th>\n",
       "      <th>Test Score</th>\n",
       "      <th>Mean Absolut Error</th>\n",
       "    </tr>\n",
       "  </thead>\n",
       "  <tbody>\n",
       "    <tr>\n",
       "      <th>0</th>\n",
       "      <td>LinearRegression Low</td>\n",
       "      <td>-5.646130e+20</td>\n",
       "      <td>-5.736000e+20</td>\n",
       "      <td>7.119745e+14</td>\n",
       "    </tr>\n",
       "    <tr>\n",
       "      <th>1</th>\n",
       "      <td>LinearRegression Mid</td>\n",
       "      <td>-6.517158e+19</td>\n",
       "      <td>-5.180149e+19</td>\n",
       "      <td>2.354280e+14</td>\n",
       "    </tr>\n",
       "    <tr>\n",
       "      <th>2</th>\n",
       "      <td>LinearRegression High</td>\n",
       "      <td>7.283477e-01</td>\n",
       "      <td>7.003480e-01</td>\n",
       "      <td>8.157751e+04</td>\n",
       "    </tr>\n",
       "    <tr>\n",
       "      <th>3</th>\n",
       "      <td>GradientBoostRegressor Low</td>\n",
       "      <td>7.257421e-01</td>\n",
       "      <td>9.879542e-01</td>\n",
       "      <td>6.338271e+03</td>\n",
       "    </tr>\n",
       "    <tr>\n",
       "      <th>4</th>\n",
       "      <td>GradientBoostRegressor Mid</td>\n",
       "      <td>8.506101e-01</td>\n",
       "      <td>9.935249e-01</td>\n",
       "      <td>8.205643e+03</td>\n",
       "    </tr>\n",
       "    <tr>\n",
       "      <th>5</th>\n",
       "      <td>GradientBoostRegressor High</td>\n",
       "      <td>6.306505e-01</td>\n",
       "      <td>9.909989e-01</td>\n",
       "      <td>1.358096e+04</td>\n",
       "    </tr>\n",
       "    <tr>\n",
       "      <th>6</th>\n",
       "      <td>Lasso Low</td>\n",
       "      <td>7.845480e-01</td>\n",
       "      <td>8.071803e-01</td>\n",
       "      <td>2.590311e+04</td>\n",
       "    </tr>\n",
       "    <tr>\n",
       "      <th>7</th>\n",
       "      <td>Lasso Mid</td>\n",
       "      <td>9.076036e-01</td>\n",
       "      <td>8.616025e-01</td>\n",
       "      <td>4.024018e+04</td>\n",
       "    </tr>\n",
       "    <tr>\n",
       "      <th>8</th>\n",
       "      <td>Lasso High</td>\n",
       "      <td>7.283474e-01</td>\n",
       "      <td>7.004690e-01</td>\n",
       "      <td>8.156948e+04</td>\n",
       "    </tr>\n",
       "    <tr>\n",
       "      <th>9</th>\n",
       "      <td>Ridge Low</td>\n",
       "      <td>7.808189e-01</td>\n",
       "      <td>8.081338e-01</td>\n",
       "      <td>2.603988e+04</td>\n",
       "    </tr>\n",
       "    <tr>\n",
       "      <th>10</th>\n",
       "      <td>Ridge Mid</td>\n",
       "      <td>9.055767e-01</td>\n",
       "      <td>8.765884e-01</td>\n",
       "      <td>3.876452e+04</td>\n",
       "    </tr>\n",
       "    <tr>\n",
       "      <th>11</th>\n",
       "      <td>Ridge High</td>\n",
       "      <td>7.257674e-01</td>\n",
       "      <td>7.059849e-01</td>\n",
       "      <td>8.109705e+04</td>\n",
       "    </tr>\n",
       "  </tbody>\n",
       "</table>\n",
       "</div>"
      ],
      "text/plain": [
       "                         Modell   Train Score    Test Score  \\\n",
       "0          LinearRegression Low -5.646130e+20 -5.736000e+20   \n",
       "1          LinearRegression Mid -6.517158e+19 -5.180149e+19   \n",
       "2         LinearRegression High  7.283477e-01  7.003480e-01   \n",
       "3    GradientBoostRegressor Low  7.257421e-01  9.879542e-01   \n",
       "4    GradientBoostRegressor Mid  8.506101e-01  9.935249e-01   \n",
       "5   GradientBoostRegressor High  6.306505e-01  9.909989e-01   \n",
       "6                     Lasso Low  7.845480e-01  8.071803e-01   \n",
       "7                     Lasso Mid  9.076036e-01  8.616025e-01   \n",
       "8                    Lasso High  7.283474e-01  7.004690e-01   \n",
       "9                     Ridge Low  7.808189e-01  8.081338e-01   \n",
       "10                    Ridge Mid  9.055767e-01  8.765884e-01   \n",
       "11                   Ridge High  7.257674e-01  7.059849e-01   \n",
       "\n",
       "    Mean Absolut Error  \n",
       "0         7.119745e+14  \n",
       "1         2.354280e+14  \n",
       "2         8.157751e+04  \n",
       "3         6.338271e+03  \n",
       "4         8.205643e+03  \n",
       "5         1.358096e+04  \n",
       "6         2.590311e+04  \n",
       "7         4.024018e+04  \n",
       "8         8.156948e+04  \n",
       "9         2.603988e+04  \n",
       "10        3.876452e+04  \n",
       "11        8.109705e+04  "
      ]
     },
     "execution_count": 38,
     "metadata": {},
     "output_type": "execute_result"
    }
   ],
   "source": [
    "# modellname, trainscore, testscore, mae\n",
    "df_fazit = pd.DataFrame(data={\n",
    "    'Modell' : ['LinearRegression Low', 'LinearRegression Mid', 'LinearRegression High',\n",
    "                'GradientBoostRegressor Low', 'GradientBoostRegressor Mid', 'GradientBoostRegressor High',  \n",
    "                'Lasso Low', 'Lasso Mid', 'Lasso High',\n",
    "                'Ridge Low', 'Ridge Mid', 'Ridge High'],\n",
    "    'Train Score' : [reg_r2['reg_train_low'], reg_r2['reg_train_mid'], reg_r2['reg_train_high'],\n",
    "                     gbr_r2['gbr_train_low'], gbr_r2['gbr_train_mid'], gbr_r2['gbr_train_high'],\n",
    "                     lasso_r2['lasso_train_low'], lasso_r2['lasso_train_mid'], lasso_r2['lasso_train_high'],\n",
    "                     rid_r2['rid_train_low'], rid_r2['rid_train_mid'], rid_r2['rid_train_high']\n",
    "                    ],\n",
    "    'Test Score' : [ reg_r2['reg_test_low'], reg_r2['reg_test_mid'], reg_r2['reg_test_high'],\n",
    "                     gbr_r2['gbr_test_low'], gbr_r2['gbr_test_mid'], gbr_r2['gbr_test_high'],\n",
    "                     lasso_r2['lasso_test_low'], lasso_r2['lasso_test_mid'], lasso_r2['lasso_test_high'],\n",
    "                     rid_r2['rid_test_low'], rid_r2['rid_test_mid'], rid_r2['rid_test_high']\n",
    "                   ],\n",
    "    'Mean Absolut Error' : [reg_mae['reg_mae_low'], reg_mae['reg_mae_mid'], reg_mae['reg_mae_high'],\n",
    "                            gbr_mae['gbr_mae_low'], gbr_mae['gbr_mae_mid'], gbr_mae['gbr_mae_high'],\n",
    "                            lasso_mae['lasso_mae_low'], lasso_mae['lasso_mae_mid'], lasso_mae['lasso_mae_high'],\n",
    "                            rid_mae['rid_mae_low'], rid_mae['rid_mae_mid'], rid_mae['rid_mae_high']]\n",
    "})\n",
    "df_fazit"
   ]
  },
  {
   "cell_type": "markdown",
   "id": "e75e043f-4e6c-49d2-b377-71efcfce9458",
   "metadata": {},
   "source": [
    "#### Modelle speichern"
   ]
  },
  {
   "cell_type": "code",
   "execution_count": 39,
   "id": "bb674cea-8f72-4424-adda-5e1ecda5282a",
   "metadata": {},
   "outputs": [
    {
     "data": {
      "text/plain": [
       "['rid_model_high_2022-07-15']"
      ]
     },
     "execution_count": 39,
     "metadata": {},
     "output_type": "execute_result"
    }
   ],
   "source": [
    "shortDate = datetime.today().strftime('%Y-%m-%d')\n",
    "\n",
    "joblib.dump(gbr, 'gbr_model' + shortDate)\n",
    "joblib.dump(gbr_l, 'gbr_model_low_' + shortDate)\n",
    "joblib.dump(gbr_m, 'gbr_model_med_' + shortDate)\n",
    "joblib.dump(gbr_h, 'gbr_model_high_' + shortDate)\n",
    "\n",
    "joblib.dump(lasso_l, 'lasso_model_low_' + shortDate)\n",
    "joblib.dump(lasso_m, 'lasso_model_med_' + shortDate)\n",
    "joblib.dump(lasso_h, 'lasso_model_high_' + shortDate)\n",
    "\n",
    "joblib.dump(rid_l, 'rid_model_low_' + shortDate)\n",
    "joblib.dump(rid_m, 'rid_model_med_' + shortDate)\n",
    "joblib.dump(rid_h, 'rid_model_high_' + shortDate)"
   ]
  }
 ],
 "metadata": {
  "kernelspec": {
   "display_name": "Python 3 (ipykernel)",
   "language": "python",
   "name": "python3"
  },
  "language_info": {
   "codemirror_mode": {
    "name": "ipython",
    "version": 3
   },
   "file_extension": ".py",
   "mimetype": "text/x-python",
   "name": "python",
   "nbconvert_exporter": "python",
   "pygments_lexer": "ipython3",
   "version": "3.9.6"
  }
 },
 "nbformat": 4,
 "nbformat_minor": 5
}
