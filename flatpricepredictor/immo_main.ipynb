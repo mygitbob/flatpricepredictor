{
 "cells": [
  {
   "cell_type": "markdown",
   "id": "e91b9711-ceca-4a83-896b-dc0df5b61d75",
   "metadata": {},
   "source": [
    "## Berliner Immobilienrechner<br>\n",
    "### Preisvorhersage für eine Berliner Immoblilie\n",
    "\n",
    "Das Projekt besteht aus 4 Teilen:\n",
    "    \n",
    "   [Webscraper zur Erfassung von Berliner Immobilienangeboten](./immo_scrap.ipynb)<br>\n",
    "        Der Webscraper wird mit Selenium in Verbindung mit dem Webbrowser\n",
    "        Firefox realisiert. <br>Aufgrund rechtlicher Bestimmungen habe ich die \n",
    "        Source-Url für die Suche aus dem Quelltext entfernt.<br><br>\n",
    "    [Explorative Datenanalyse](./immo_eda.ipynb)<br>\n",
    "        Analyse und Bereinigung der gesammelten Daten.<br><br>\n",
    "    [Modellentwicklung zur Preisvorhersage](./immo_model.ipynb)<br>\n",
    "        Entwicklung eines Modells zur Preisvorhersage auf Basis der bereinigten              Immobiliendaten. <br>Begutachtung unterschiedlicher Modelle, Auswahl und Speicherung des geeignetsten Modells.\n",
    "    <br><br>\n",
    "    [Immobilienrechner - Bereitstellung des besten Preisvorhersagemodells per Webinterface](./flask/immo_flask.ipynb)<br>    \n",
    "   "
   ]
  }
 ],
 "metadata": {
  "kernelspec": {
   "display_name": "Python 3 (ipykernel)",
   "language": "python",
   "name": "python3"
  },
  "language_info": {
   "codemirror_mode": {
    "name": "ipython",
    "version": 3
   },
   "file_extension": ".py",
   "mimetype": "text/x-python",
   "name": "python",
   "nbconvert_exporter": "python",
   "pygments_lexer": "ipython3",
   "version": "3.9.6"
  }
 },
 "nbformat": 4,
 "nbformat_minor": 5
}
